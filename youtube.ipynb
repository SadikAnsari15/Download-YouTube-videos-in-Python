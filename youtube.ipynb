{
 "cells": [
  {
   "cell_type": "markdown",
   "id": "20b47c61",
   "metadata": {},
   "source": [
    "#  Download YouTube videos in Python"
   ]
  },
  {
   "cell_type": "code",
   "execution_count": 1,
   "id": "873fb5fe",
   "metadata": {},
   "outputs": [],
   "source": [
    "# import pytube library to download the video\n",
    "import pytube"
   ]
  },
  {
   "cell_type": "code",
   "execution_count": 2,
   "id": "4350278f",
   "metadata": {},
   "outputs": [
    {
     "name": "stdout",
     "output_type": "stream",
     "text": [
      "Enter the video url: https://www.youtube.com/watch?v=gmvvaobm7eQ\n"
     ]
    }
   ],
   "source": [
    "# ask for the url of video\n",
    "url = input('Enter the video url: ')\n"
   ]
  },
  {
   "cell_type": "code",
   "execution_count": 3,
   "id": "80da43fd",
   "metadata": {},
   "outputs": [],
   "source": [
    "# specify the storage path of video\n",
    "path = 'E:'"
   ]
  },
  {
   "cell_type": "code",
   "execution_count": 4,
   "id": "08415506",
   "metadata": {},
   "outputs": [
    {
     "data": {
      "text/plain": [
       "'E:Machine Learning Tutorial Python -1 What is Machine Learning.mp4'"
      ]
     },
     "execution_count": 4,
     "metadata": {},
     "output_type": "execute_result"
    }
   ],
   "source": [
    "# magic line to download the video\n",
    "pytube.YouTube(url).streams.get_highest_resolution().download(path)"
   ]
  },
  {
   "cell_type": "code",
   "execution_count": 5,
   "id": "d57e7ce1",
   "metadata": {},
   "outputs": [],
   "source": [
    "# Sadik Ansari   "
   ]
  }
 ],
 "metadata": {
  "kernelspec": {
   "display_name": "Python 3",
   "language": "python",
   "name": "python3"
  },
  "language_info": {
   "codemirror_mode": {
    "name": "ipython",
    "version": 3
   },
   "file_extension": ".py",
   "mimetype": "text/x-python",
   "name": "python",
   "nbconvert_exporter": "python",
   "pygments_lexer": "ipython3",
   "version": "3.8.8"
  },
  "toc": {
   "base_numbering": 1,
   "nav_menu": {},
   "number_sections": true,
   "sideBar": true,
   "skip_h1_title": false,
   "title_cell": "Table of Contents",
   "title_sidebar": "Contents",
   "toc_cell": false,
   "toc_position": {},
   "toc_section_display": true,
   "toc_window_display": false
  }
 },
 "nbformat": 4,
 "nbformat_minor": 5
}
